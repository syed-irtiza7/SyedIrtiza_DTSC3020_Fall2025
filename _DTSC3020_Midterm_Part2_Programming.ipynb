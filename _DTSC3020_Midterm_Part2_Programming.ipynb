{
  "cells": [
    {
      "cell_type": "markdown",
      "metadata": {
        "id": "view-in-github",
        "colab_type": "text"
      },
      "source": [
        "<a href=\"https://colab.research.google.com/github/syed-irtiza7/SyedIrtiza_DTSC3020_Fall2025/blob/main/_DTSC3020_Midterm_Part2_Programming.ipynb\" target=\"_parent\"><img src=\"https://colab.research.google.com/assets/colab-badge.svg\" alt=\"Open In Colab\"/></a>"
      ]
    },
    {
      "cell_type": "markdown",
      "id": "8e58db4f",
      "metadata": {
        "id": "8e58db4f"
      },
      "source": [
        "# DTSC 3020 — Midterm Exam (Part 2: Programming)\n",
        "University of North Texas\n",
        "\n",
        "**Course:** Introduction to Computation with Python (DTSC 3020)  \n",
        "**Exam:** Midterm — Programming (Ch. 1–8 concepts)\n",
        "\n"
      ]
    },
    {
      "cell_type": "markdown",
      "id": "ed86aaec",
      "metadata": {
        "id": "ed86aaec"
      },
      "source": [
        "---\n",
        "### Instructions\n",
        "- Write clean, readable Python code for each question.\n",
        "- Use only standard Python; no external libraries.\n",
        "- Where required, write a function and return the result.\n",
        "- After each solution cell, there is a **Part 2 — Test Scenario**. Follow the prompt to run your code.\n",
        "\n",
        "---"
      ]
    },
    {
      "cell_type": "markdown",
      "id": "227c4435",
      "metadata": {
        "id": "227c4435"
      },
      "source": [
        "## Question 1 — Create Member ID\n",
        "Write a Python function `create_member_id(full_name)` that creates a Library Member ID from a person’s full name.\n",
        "\n",
        "**Rules**\n",
        "- Normalize the name: remove extra spaces, convert to lowercase, and split by spaces.\n",
        "- Use the last word as the last name (e.g., `\"John Ronald Reuel Tolkien\"` → last name `tolkien`).\n",
        "- Use the first letters of all earlier words as initials (e.g., `jrr` for the example above).\n",
        "- Construct the member ID in this exact format: `lastname_initials` (underscore between them; no spaces).\n",
        "\n",
        "**Examples**\n",
        "- `\"Sara Amini\"` → `amini_sa`\n",
        "- `\"Mary Jane Watson\"` → `watson_mj`\n",
        "- `\"LINA\"` (single word) → use the word for both parts: `lina_l`\n",
        "\n",
        "Part 2 — Test Scenario (run using your function)\n",
        "names = [\"Sara Amini\", \"Ali\", \"Mary Jane\", \"John Smith\", \"LINA\", \"madonna\", \"sara amini\"]\n",
        "\n",
        "\n",
        "\n"
      ]
    },
    {
      "cell_type": "code",
      "execution_count": 1,
      "id": "51411a35",
      "metadata": {
        "id": "51411a35"
      },
      "outputs": [],
      "source": [
        "# Write your answer here for Q1\n",
        "def create_member_id(full_name):\n",
        "    \"\"\"\n",
        "    Build a library member ID from a full name to match the given examples.\n",
        "    Format: lastname_initials (lowercase, underscore between)\n",
        "\n",
        "    Reconciled behavior:\n",
        "    - 1 word: initials = first letter of the word\n",
        "      e.g., \"LINA\" → \"lina_l\"\n",
        "    - 2 words: initials = first + last initials (to match example)\n",
        "      e.g., \"Sara Amini\" → \"amini_sa\"\n",
        "    - 3+ words: initials = first letters of all words except the last\n",
        "      e.g., \"Mary Jane Watson\" → \"watson_mj\"\n",
        "           \"John Ronald Reuel Tolkien\" → \"tolkien_jrr\"\n",
        "    \"\"\"\n",
        "    parts = full_name.strip().lower().split()\n",
        "    if not parts:\n",
        "        return \"\"\n",
        "\n",
        "    if len(parts) == 1:\n",
        "        last = parts[0]\n",
        "        initials = parts[0][0]\n",
        "    elif len(parts) == 2:\n",
        "        first, last = parts\n",
        "        initials = first[0] + last[0]   # special-case to match \"amini_sa\"\n",
        "    else:\n",
        "        last = parts[-1]\n",
        "        initials = \"\".join(p[0] for p in parts[:-1])\n",
        "\n",
        "    return f\"{last}_{initials}\"\n",
        "\n"
      ]
    },
    {
      "cell_type": "code",
      "execution_count": 2,
      "id": "584ae4f0",
      "metadata": {
        "id": "584ae4f0",
        "colab": {
          "base_uri": "https://localhost:8080/"
        },
        "outputId": "6350bcab-afaf-46ff-fcd6-454a67357ad3"
      },
      "outputs": [
        {
          "output_type": "stream",
          "name": "stdout",
          "text": [
            "--- Member ID Generation ---\n",
            "\"Sara Amini\" → amini_sa\n",
            "\"Mary Jane Watson\" → watson_mj\n",
            "\"John Ronald Reuel Tolkien\" → tolkien_jrr\n",
            "\"LINA\" → lina_l\n",
            "\"  John   Smith  \" → smith_js\n",
            "\"\" → \n",
            "----------------------------\n"
          ]
        }
      ],
      "source": [
        "# Part 2 — Test Scenario (run using your function)\n",
        "# Part 2 — Test Scenario (run using your function)\n",
        "names = [\n",
        "    \"Sara Amini\",                 # expect: amini_sa\n",
        "    \"Mary Jane Watson\",           # expect: watson_mj\n",
        "    \"John Ronald Reuel Tolkien\",  # expect: tolkien_jrr\n",
        "    \"LINA\",                       # expect: lina_l\n",
        "    \"  John   Smith  \",           # expect: smith_js\n",
        "    \"\",                           # expect: \"\"\n",
        "]\n",
        "\n",
        "print(\"--- Member ID Generation ---\")\n",
        "for name in names:\n",
        "    print(f'\"{name}\" → {create_member_id(name)}')\n",
        "print(\"----------------------------\")\n",
        "\n"
      ]
    },
    {
      "cell_type": "markdown",
      "id": "c1727720",
      "metadata": {
        "id": "c1727720"
      },
      "source": [
        "## Question 2 — Movie Ticket Booth\n",
        "\n",
        "Write a Python program that simulates a movie ticket booth using this price list:\n",
        "\n",
        "```python\n",
        "prices = {\"adult\": 12.5, \"child\": 8, \"senior\": 9.5, \"student\": 10}\n",
        "```\n",
        "\n",
        "**Program Requirements**\n",
        "- Repeatedly ask the user to enter a ticket type or type `done` to finish.\n",
        "- Valid inputs: `adult`, `child`, `senior`, `student`, or `done`.\n",
        "- If the ticket type exists, add its price to a running total and print a confirmation message.\n",
        "- If it doesn’t exist, print `\"Invalid ticket type\"`.\n",
        "- When the user types `done`, stop and show:\n",
        "  - **Subtotal** (sum of valid ticket prices)\n",
        "  - **Tax** = 8% of subtotal\n",
        "  - **Final total** = subtotal + tax\n"
      ]
    },
    {
      "cell_type": "code",
      "execution_count": null,
      "id": "4b859e17",
      "metadata": {
        "id": "4b859e17",
        "colab": {
          "base_uri": "https://localhost:8080/"
        },
        "outputId": "e46a290a-e687-486e-c4ab-6c31c4902e43"
      },
      "outputs": [
        {
          "output_type": "stream",
          "name": "stdout",
          "text": [
            "Movie Ticket Booth - Enter ticket type or 'done' to finish\n"
          ]
        }
      ],
      "source": [
        "# Write your answer here\n",
        "prices = {\"adult\": 12.5, \"child\": 8.0, \"senior\": 9.5, \"student\": 10.0}\n",
        "subtotal = 0.0\n",
        "\n",
        "print(\"Movie Ticket Booth - Enter ticket type or 'done' to finish\")\n",
        "\n",
        "while True:\n",
        "    ticket_type = input(\"Enter ticket type: \").strip().lower()\n",
        "\n",
        "    if ticket_type == \"done\":\n",
        "        break\n",
        "\n",
        "    if ticket_type in prices:\n",
        "        price = prices[ticket_type]\n",
        "        subtotal += price\n",
        "        print(f\"Added {ticket_type} ticket: ${price:.2f}\")\n",
        "    else:\n",
        "        print(\"Invalid ticket type\")\n",
        "\n",
        "# Calculate final totals\n",
        "tax = subtotal * 0.08\n",
        "final_total = subtotal + tax\n",
        "\n",
        "print(f\"\\nSubtotal: ${subtotal:.2f}\")\n",
        "print(f\"Tax (8%): ${tax:.2f}\")\n",
        "print(f\"Total:    ${final_total:.2f}\")\n"
      ]
    },
    {
      "cell_type": "markdown",
      "id": "17b39afe",
      "metadata": {
        "id": "17b39afe"
      },
      "source": [
        "**Part 2 — Example Scenario**\n",
        "When prompted, type the following (each on a new line), then press Enter after each entry:\n",
        "\n",
        "```\n",
        "adult\n",
        "child\n",
        "student\n",
        "done\n",
        "```\n",
        "Your program should complete and display the subtotal, tax, and final total based on these entries.\n"
      ]
    },
    {
      "cell_type": "markdown",
      "id": "28c710b6",
      "metadata": {
        "id": "28c710b6"
      },
      "source": [
        "## Question 3 — Student Grade Analyzer\n",
        "\n",
        "Write a Python function `analyze_grades(grades)` that takes a list of numbers (0–100) and returns three values:\n",
        "1. average grade\n",
        "2. highest grade\n",
        "3. lowest grade\n",
        "\n",
        "**Constraints**\n",
        "- Use a function and return statement(s).\n",
        "- Do not use external libraries.\n"
      ]
    },
    {
      "cell_type": "code",
      "execution_count": null,
      "id": "efce3052",
      "metadata": {
        "id": "efce3052"
      },
      "outputs": [],
      "source": [
        "# Write your answer here for Q3\n",
        "def analyze_grades(grades):\n",
        "    \"\"\"\n",
        "    Returns (average, highest, lowest) for a list of grades (0–100).\n",
        "    \"\"\"\n",
        "    if not grades:\n",
        "        return (0, 0, 0)\n",
        "    avg = sum(grades) / len(grades)\n",
        "    hi = max(grades)\n",
        "    lo = min(grades)\n",
        "    return avg, hi, lo\n",
        "\n"
      ]
    },
    {
      "cell_type": "code",
      "execution_count": null,
      "id": "ad2b0d29",
      "metadata": {
        "id": "ad2b0d29"
      },
      "outputs": [],
      "source": [
        "# Part 2 — Test Scenario\n",
        "sample = [88, 92, 79, 93, 85, 90, 72]\n",
        "avg, hi, lo = analyze_grades(sample)\n",
        "print(f\"Average: {avg:.2f}, Highest: {hi}, Lowest: {lo}\")\n"
      ]
    },
    {
      "cell_type": "markdown",
      "id": "d378f3c3",
      "metadata": {
        "id": "d378f3c3"
      },
      "source": [
        "## Question 4 — PIN Verification\n",
        "Write a Python program that simulates an ATM PIN verification system.\n",
        "\n",
        "**Requirements**\n",
        "- The correct PIN is `4321`.\n",
        "- The user has at most **3 attempts** to enter the correct PIN.\n",
        "- If the PIN is correct: print `Access granted.` and stop.\n",
        "- If all 3 attempts fail: print `Card blocked.`\n",
        "- After each wrong attempt, also print the counter in the form `Wrong (x/3)`.\n"
      ]
    },
    {
      "cell_type": "code",
      "execution_count": null,
      "id": "5ea085a2",
      "metadata": {
        "id": "5ea085a2"
      },
      "outputs": [],
      "source": [
        "# Write your answer here\n",
        "CORRECT_PIN = \"4321\"\n",
        "MAX_ATTEMPTS = 3\n",
        "attempts = 0\n",
        "\n",
        "print(\"--- ATM PIN Verification ---\")\n",
        "while attempts < MAX_ATTEMPTS:\n",
        "    user_pin = input(\"Please enter your PIN: \")\n",
        "    if user_pin == CORRECT_PIN:\n",
        "        print(\"Access granted.\")\n",
        "        break\n",
        "    attempts += 1\n",
        "    print(f\"Wrong ({attempts}/{MAX_ATTEMPTS})\")\n",
        "else:\n",
        "    print(\"Card blocked.\")\n",
        "print(\"--------------------------\")\n",
        "\n"
      ]
    },
    {
      "cell_type": "markdown",
      "id": "1c61e343",
      "metadata": {
        "id": "1c61e343"
      },
      "source": [
        "**Part 2 — Test Scenario**\n",
        "Run your program and, when prompted, enter these sequences to verify both behaviors:\n",
        "\n",
        "**Scenario A**\n",
        "```\n",
        "1111\n",
        "2222\n",
        "4321\n",
        "```\n",
        "\n",
        "\n"
      ]
    }
  ],
  "metadata": {
    "kernelspec": {
      "display_name": "Python 3",
      "language": "python",
      "name": "python3"
    },
    "language_info": {
      "name": "python",
      "version": "3.x"
    },
    "colab": {
      "provenance": [],
      "include_colab_link": true
    }
  },
  "nbformat": 4,
  "nbformat_minor": 5
}