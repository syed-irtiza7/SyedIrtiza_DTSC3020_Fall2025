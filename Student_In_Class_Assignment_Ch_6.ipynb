{
  "nbformat": 4,
  "nbformat_minor": 0,
  "metadata": {
    "colab": {
      "provenance": [],
      "include_colab_link": true
    },
    "kernelspec": {
      "name": "python3",
      "display_name": "Python 3"
    },
    "language_info": {
      "name": "python"
    }
  },
  "cells": [
    {
      "cell_type": "markdown",
      "metadata": {
        "id": "view-in-github",
        "colab_type": "text"
      },
      "source": [
        "<a href=\"https://colab.research.google.com/github/syed-irtiza7/SyedIrtiza_DTSC3020_Fall2025/blob/main/Student_In_Class_Assignment_Ch_6.ipynb\" target=\"_parent\"><img src=\"https://colab.research.google.com/assets/colab-badge.svg\" alt=\"Open In Colab\"/></a>"
      ]
    },
    {
      "cell_type": "markdown",
      "source": [
        "### ✅ Final Class Exercise: Library Borrowing (using key-value)\n",
        "You are given a dictionary that shows how many books each student has borrowed. Write a Python program to:\n",
        "1.  Print the names of students who borrowed more than 2 books.\n",
        "2. calculate the total number of borrowed books.\n"
      ],
      "metadata": {
        "id": "p337feJZG6g0"
      }
    },
    {
      "cell_type": "code",
      "source": [
        "borrowed_books = {\n",
        "    'Ali': 1,\n",
        "    'Sara': 3,\n",
        "    'Reza': 0,\n",
        "    'Lina': 4,\n",
        "    'Omid': 2\n",
        "}\n",
        "\n",
        "# Part 1\n",
        "print(\"Students who borrowed more than 2 books:\")\n",
        "for student, books in borrowed_books.items():\n",
        "    if books > 2:\n",
        "        print(student)\n",
        "\n",
        "# Part 2\n",
        "total_books = sum(borrowed_books.values())\n",
        "print(f\"\\nTotal number of borrowed books: {total_books}\")\n"
      ],
      "metadata": {
        "id": "OibWnbqOG_cX",
        "colab": {
          "base_uri": "https://localhost:8080/"
        },
        "outputId": "5cd4e8f8-4503-421d-faa3-2d3f65f87f5f"
      },
      "execution_count": 1,
      "outputs": [
        {
          "output_type": "stream",
          "name": "stdout",
          "text": [
            "Students who borrowed more than 2 books:\n",
            "Sara\n",
            "Lina\n",
            "\n",
            "Total number of borrowed books: 10\n"
          ]
        }
      ]
    }
  ]
}