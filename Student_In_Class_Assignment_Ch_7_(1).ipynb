{
  "nbformat": 4,
  "nbformat_minor": 0,
  "metadata": {
    "colab": {
      "provenance": [],
      "include_colab_link": true
    },
    "kernelspec": {
      "name": "python3",
      "display_name": "Python 3"
    },
    "language_info": {
      "name": "python"
    }
  },
  "cells": [
    {
      "cell_type": "markdown",
      "metadata": {
        "id": "view-in-github",
        "colab_type": "text"
      },
      "source": [
        "<a href=\"https://colab.research.google.com/github/syed-irtiza7/SyedIrtiza_DTSC3020_Fall2025/blob/main/Student_In_Class_Assignment_Ch_7_(1).ipynb\" target=\"_parent\"><img src=\"https://colab.research.google.com/assets/colab-badge.svg\" alt=\"Open In Colab\"/></a>"
      ]
    },
    {
      "cell_type": "markdown",
      "source": [
        "#Write a Python program that simulates a self-checkout system.**\n",
        "Use this price list: prices: apple= 1 ,  bread= 2.5 ,  milk=5 ,  egg= 6\n",
        "\n",
        "Program requirements:\n",
        "\n",
        "The program should repeatedly ask the user to enter an item name or enter \"pay\".\n",
        "\n",
        "\n",
        "• Valid inputs are the names of the **items above ** or the word \"pay\".\n",
        "\n",
        "\n",
        "If the entered item exists in the price list:\n",
        "\n",
        "• Add its price to the running total.\n",
        "\n",
        "\n",
        "• Print the message: \"Added , running total: $\".\n",
        "\n",
        "\n",
        "If the entered item does not exist in the price list:\n",
        "\n",
        "• Print \"Item not found\".\n",
        "\n",
        "If the user types \"pay\":\n",
        "\n",
        "• Stop asking for input.\n",
        "\n",
        "Show the following three values:\n",
        "\n",
        "\n",
        "**Subtotal: the sum of all valid items entered.**\n",
        "\n",
        "**Tax: 8% of the subtotal. (0.08 * total)**\n",
        "\n",
        "**Final total: subtotal + tax.**\n",
        "\n",
        "\n",
        "Run your program with this purchase list. For example, for one person whose purchase is:apple, pizza, bread, pay *italicised text*"
      ],
      "metadata": {
        "id": "t1xs1X02Owtz"
      }
    },
    {
      "cell_type": "code",
      "source": [
        "# Price list for available items\n",
        "prices = {\n",
        "    \"apple\": 1,\n",
        "    \"bread\": 2.5,\n",
        "    \"milk\": 5,\n",
        "    \"egg\": 6\n",
        "}\n",
        "\n",
        "# Initialize running total\n",
        "subtotal = 0\n",
        "\n",
        "print(\"Welcome to the self-checkout system!\")\n",
        "print(\"Available items: apple, bread, milk, egg\")\n",
        "print(\"Enter 'pay' when you're done shopping\\n\")\n",
        "\n",
        "# Main program loop\n",
        "while True:\n",
        "    # Get user input\n",
        "    user_input = input(\"Enter an item name or 'pay': \").strip().lower()\n",
        "\n",
        "    # Check if user wants to pay\n",
        "    if user_input == \"pay\":\n",
        "        break\n",
        "\n",
        "    # Check if item exists in price list\n",
        "    if user_input in prices:\n",
        "        # Add item price to running total\n",
        "        item_price = prices[user_input]\n",
        "        subtotal += item_price\n",
        "        print(f\"Added {user_input}, running total: ${subtotal:.2f}\")\n",
        "    else:\n",
        "        # Item not found\n",
        "        print(\"Item not found\")\n",
        "\n",
        "# Calculate tax and final total\n",
        "tax = subtotal * 0.08\n",
        "final_total = subtotal + tax\n",
        "\n",
        "# Display final receipt\n",
        "print(\"\\n--- Receipt ---\")\n",
        "print(f\"Subtotal: ${subtotal:.2f}\")\n",
        "print(f\"Tax (8%): ${tax:.2f}\")\n",
        "print(f\"Final total: ${final_total:.2f}\")\n",
        "print(\"Thank you for shopping!\")"
      ],
      "metadata": {
        "colab": {
          "base_uri": "https://localhost:8080/"
        },
        "id": "iSgbH9Vy4vs1",
        "outputId": "3499d921-777d-4b28-ae76-b87050859fcf"
      },
      "execution_count": null,
      "outputs": [
        {
          "output_type": "stream",
          "name": "stdout",
          "text": [
            "Welcome to the self-checkout system!\n",
            "Available items: apple, bread, milk, egg\n",
            "Enter 'pay' when you're done shopping\n",
            "\n"
          ]
        }
      ]
    },
    {
      "cell_type": "code",
      "source": [
        "Enter an item name or 'pay': apple\n",
        "Added apple, running total: $1.00\n",
        "Enter an item name or 'pay': pizza\n",
        "Item not found\n",
        "Enter an item name or 'pay': bread\n",
        "Added bread, running total: $3.50\n",
        "Enter an item name or 'pay': pay\n",
        "\n",
        "Subtotal: $3.50\n",
        "Tax: $0.28\n",
        "Final total: $3.78"
      ],
      "metadata": {
        "id": "EsAEFZlp5Qn4"
      },
      "execution_count": null,
      "outputs": []
    }
  ]
}