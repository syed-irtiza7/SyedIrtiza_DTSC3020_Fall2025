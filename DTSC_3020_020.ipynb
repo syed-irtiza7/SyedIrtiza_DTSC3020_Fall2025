{
  "nbformat": 4,
  "nbformat_minor": 0,
  "metadata": {
    "colab": {
      "provenance": [],
      "authorship_tag": "ABX9TyMFA5hss0q6lk2SrBbsl7ST",
      "include_colab_link": true
    },
    "kernelspec": {
      "name": "python3",
      "display_name": "Python 3"
    },
    "language_info": {
      "name": "python"
    }
  },
  "cells": [
    {
      "cell_type": "markdown",
      "metadata": {
        "id": "view-in-github",
        "colab_type": "text"
      },
      "source": [
        "<a href=\"https://colab.research.google.com/github/syed-irtiza7/SyedIrtiza_DTSC3020_Fall2025/blob/main/DTSC_3020_020.ipynb\" target=\"_parent\"><img src=\"https://colab.research.google.com/assets/colab-badge.svg\" alt=\"Open In Colab\"/></a>"
      ]
    },
    {
      "cell_type": "code",
      "execution_count": 1,
      "metadata": {
        "colab": {
          "base_uri": "https://localhost:8080/"
        },
        "id": "dpa9DeuPrSTA",
        "outputId": "6a043d82-abe7-4ed6-93b9-fa92fefb3d31"
      },
      "outputs": [
        {
          "output_type": "stream",
          "name": "stdout",
          "text": [
            "Fruits list: ['apple', 'banana', 'orange']\n",
            "Each fruit:\n",
            "apple\n",
            "banana\n",
            "orange\n"
          ]
        }
      ],
      "source": [
        "fruits = [\"apple\", \"banana\", \"orange\"]\n",
        "print(\"Fruits list:\", fruits)\n",
        "print(\"Each fruit:\")\n",
        "for fruit in fruits:\n",
        "    print(fruit)"
      ]
    },
    {
      "cell_type": "code",
      "source": [
        "names = [\"Ali\", \"Sara\", \"Omar\", \"Zara\"]\n",
        "names[0] = \"Reza\"  # change first name\n",
        "print(\"Updated names list:\", names)"
      ],
      "metadata": {
        "colab": {
          "base_uri": "https://localhost:8080/"
        },
        "id": "0c5j6byJs9W4",
        "outputId": "6a31314a-7236-4cb4-8084-51531fe4b120"
      },
      "execution_count": 2,
      "outputs": [
        {
          "output_type": "stream",
          "name": "stdout",
          "text": [
            "Updated names list: ['Reza', 'Sara', 'Omar', 'Zara']\n"
          ]
        }
      ]
    },
    {
      "cell_type": "code",
      "source": [
        "vehicles = [\"car\", \"bus\", \"bike\", \"truck\", \"train\"]\n",
        "vehicles.append(\"scooter\")  # add one more vehicle\n",
        "print(\"Vehicles list:\", vehicles)"
      ],
      "metadata": {
        "colab": {
          "base_uri": "https://localhost:8080/"
        },
        "id": "wKUMuzOls9mV",
        "outputId": "3febb3a6-01a5-4504-b59d-12f8ec711bb1"
      },
      "execution_count": 3,
      "outputs": [
        {
          "output_type": "stream",
          "name": "stdout",
          "text": [
            "Vehicles list: ['car', 'bus', 'bike', 'truck', 'train', 'scooter']\n"
          ]
        }
      ]
    },
    {
      "cell_type": "code",
      "source": [
        "foods = [\"pizza\", \"burger\", \"pasta\", \"rice\", \"salad\", \"tacos\"]\n",
        "foods.remove(\"pasta\")  # remove one food\n",
        "print(\"Foods list after removal:\", foods)"
      ],
      "metadata": {
        "colab": {
          "base_uri": "https://localhost:8080/"
        },
        "id": "giz_lCV7s9wM",
        "outputId": "ed3e4417-0671-4171-d04d-92a6741de928"
      },
      "execution_count": 4,
      "outputs": [
        {
          "output_type": "stream",
          "name": "stdout",
          "text": [
            "Foods list after removal: ['pizza', 'burger', 'rice', 'salad', 'tacos']\n"
          ]
        }
      ]
    },
    {
      "cell_type": "code",
      "source": [
        "cities = [\"London\", \"New York\", \"Tokyo\", \"Paris\"]\n",
        "cities.sort()  # sort alphabetically\n",
        "print(\"Sorted cities:\", cities)\n",
        "cities.reverse()  # reverse the list\n",
        "print(\"Reversed cities:\", cities)"
      ],
      "metadata": {
        "colab": {
          "base_uri": "https://localhost:8080/"
        },
        "id": "c6sALqlxs961",
        "outputId": "972747c5-7520-41ba-a424-0e3d2fab13ed"
      },
      "execution_count": 5,
      "outputs": [
        {
          "output_type": "stream",
          "name": "stdout",
          "text": [
            "Sorted cities: ['London', 'New York', 'Paris', 'Tokyo']\n",
            "Reversed cities: ['Tokyo', 'Paris', 'New York', 'London']\n"
          ]
        }
      ]
    },
    {
      "cell_type": "code",
      "source": [
        "animals = [\"cat\", \"dog\", \"elephant\"]\n",
        "print(\"Animals:\")\n",
        "for animal in animals:\n",
        "    print(animal)"
      ],
      "metadata": {
        "colab": {
          "base_uri": "https://localhost:8080/"
        },
        "id": "lnYrtxyLs-UW",
        "outputId": "1cdf4714-8513-4ab4-8b9b-df8d6aa36891"
      },
      "execution_count": 6,
      "outputs": [
        {
          "output_type": "stream",
          "name": "stdout",
          "text": [
            "Animals:\n",
            "cat\n",
            "dog\n",
            "elephant\n"
          ]
        }
      ]
    },
    {
      "cell_type": "code",
      "source": [
        "numbers = [1, 2, 3, 4, 5]\n",
        "print(\"Numbers multiplied by 2:\")\n",
        "for num in numbers:\n",
        "    print(num * 2)"
      ],
      "metadata": {
        "colab": {
          "base_uri": "https://localhost:8080/"
        },
        "id": "OtFwJdLgs-eQ",
        "outputId": "9b9d376c-46f9-4399-9f72-b865d0a26a62"
      },
      "execution_count": 7,
      "outputs": [
        {
          "output_type": "stream",
          "name": "stdout",
          "text": [
            "Numbers multiplied by 2:\n",
            "2\n",
            "4\n",
            "6\n",
            "8\n",
            "10\n"
          ]
        }
      ]
    },
    {
      "cell_type": "code",
      "source": [
        "friends = [\"Ahmed\", \"Bilal\", \"Cathy\", \"David\", \"Eman\", \"Fatima\"]\n",
        "print(\"First three friends:\", friends[:3])\n",
        "print(\"Last three friends:\", friends[-3:])"
      ],
      "metadata": {
        "colab": {
          "base_uri": "https://localhost:8080/"
        },
        "id": "DTYOiZ_Os-r7",
        "outputId": "8e99b21d-412e-44d1-c303-222df4c0247b"
      },
      "execution_count": 8,
      "outputs": [
        {
          "output_type": "stream",
          "name": "stdout",
          "text": [
            "First three friends: ['Ahmed', 'Bilal', 'Cathy']\n",
            "Last three friends: ['David', 'Eman', 'Fatima']\n"
          ]
        }
      ]
    },
    {
      "cell_type": "code",
      "source": [
        "nums = list(range(1, 11))\n",
        "print(\"Numbers from 1 to 10:\", nums)"
      ],
      "metadata": {
        "colab": {
          "base_uri": "https://localhost:8080/"
        },
        "id": "Rnc8Mk44s-38",
        "outputId": "ff7998fb-56f8-450d-9105-1ba687fa94be"
      },
      "execution_count": 9,
      "outputs": [
        {
          "output_type": "stream",
          "name": "stdout",
          "text": [
            "Numbers from 1 to 10: [1, 2, 3, 4, 5, 6, 7, 8, 9, 10]\n"
          ]
        }
      ]
    },
    {
      "cell_type": "code",
      "source": [
        "squares = [x**2 for x in range(1, 6)]\n",
        "print(\"Squares from 1 to 5:\", squares)"
      ],
      "metadata": {
        "colab": {
          "base_uri": "https://localhost:8080/"
        },
        "id": "DbOEL_y-s_Cj",
        "outputId": "54e52396-9e6a-45ac-cf66-bb9d65d0409d"
      },
      "execution_count": 10,
      "outputs": [
        {
          "output_type": "stream",
          "name": "stdout",
          "text": [
            "Squares from 1 to 5: [1, 4, 9, 16, 25]\n"
          ]
        }
      ]
    }
  ]
}