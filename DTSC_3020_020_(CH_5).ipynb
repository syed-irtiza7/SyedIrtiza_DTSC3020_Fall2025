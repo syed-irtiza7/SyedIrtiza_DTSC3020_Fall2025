{
  "cells": [
    {
      "cell_type": "markdown",
      "metadata": {
        "id": "view-in-github",
        "colab_type": "text"
      },
      "source": [
        "<a href=\"https://colab.research.google.com/github/syed-irtiza7/SyedIrtiza_DTSC3020_Fall2025/blob/main/DTSC_3020_020_(CH_5).ipynb\" target=\"_parent\"><img src=\"https://colab.research.google.com/assets/colab-badge.svg\" alt=\"Open In Colab\"/></a>"
      ]
    },
    {
      "cell_type": "markdown",
      "metadata": {
        "id": "nevCG4Qs0b8R"
      },
      "source": [
        "# DTSC 3020 – Assignment 3\n",
        "\n",
        "This exercise focuses on **if statements and conditional logic** in Python and is designed to help students practice decision-making structures.\n",
        "\n",
        "**Total points:** 5  \n",
        "**Deadline:** Friday at midnight  \n",
        "**Submission:** Upload your Python file to your GitHub repository and submit **only your GitHub link**.\n",
        "\n",
        "### Expectations\n",
        "- Write complete answers and run all cells before submission.\n",
        "- Keep the notebook clean (no unnecessary code).\n",
        "\n"
      ],
      "id": "nevCG4Qs0b8R"
    },
    {
      "cell_type": "markdown",
      "metadata": {
        "id": "gfumj0DY0b8f"
      },
      "source": [
        "## Question 1 – Movie Ticket System\n",
        "Write a Python code that checks the price of a movie ticket.\n",
        "If the age is between 0 and 11 it is Child, if between 12 and 17 it is Teen, and if 18 or older it is Adult.\n",
        "Print the category and the ticket price (you choose the price).\n",
        "Run the program with age = 16."
      ],
      "id": "gfumj0DY0b8f"
    },
    {
      "cell_type": "code",
      "metadata": {
        "id": "67TGDT6w0b8k"
      },
      "execution_count": 1,
      "outputs": [],
      "source": [
        "age = 16  # given\n",
        "\n",
        "# choose ticket prices\n",
        "PRICES = {\"Child\": 8.0, \"Teen\": 10.0, \"Adult\": 14.0}\n",
        "\n",
        "if 0 <= age <= 11:\n",
        "    category = \"Child\"\n",
        "elif 12 <= age <= 17:\n",
        "    category = \"Teen\"\n",
        "else:\n",
        "    category = \"Adult\"\n",
        "\n",
        "price = PRICES[category]\n",
        "print(f\"Category: {category} | Ticket price: ${price:.2f}\")\n"
      ],
      "id": "67TGDT6w0b8k"
    },
    {
      "cell_type": "markdown",
      "metadata": {
        "id": "_tUFNVKT0b8r"
      },
      "source": [
        "## Question 2 – Online Store Discount\n",
        "Write a Python code that applies a discount based on the shopping cart total.\n",
        "If the total is less than 50 dollars there is no discount, if the total is between 50 and 99 dollars there is a 10 percent discount, and if the total is 100 dollars or more there is a 20 percent discount.\n",
        "Print the original total, the discount, and the final price.\n",
        "Run the program with cart_total = 85."
      ],
      "id": "_tUFNVKT0b8r"
    },
    {
      "cell_type": "code",
      "metadata": {
        "id": "yTtX719o0b8v"
      },
      "execution_count": null,
      "outputs": [],
      "source": [
        "cart_total = 85  # given\n",
        "\n",
        "if cart_total < 50:\n",
        "    discount_rate = 0.00\n",
        "elif cart_total < 100:\n",
        "    discount_rate = 0.10  # 10% between $50 and $99.99\n",
        "else:\n",
        "    discount_rate = 0.20  # 20% for $100 or more\n",
        "\n",
        "discount = cart_total * discount_rate\n",
        "final_price = cart_total - discount\n",
        "\n",
        "print(f\"Original total: ${cart_total:.2f}\")\n",
        "print(f\"Discount ({discount_rate*100:.0f}%): -${discount:.2f}\")\n",
        "print(f\"Final price: ${final_price:.2f}\")"
      ],
      "id": "yTtX719o0b8v"
    },
    {
      "cell_type": "markdown",
      "metadata": {
        "id": "uOUYYC870b8x"
      },
      "source": [
        "## Question 3 – Exam Grading\n",
        "Write a Python code that gives a letter grade for a score.\n",
        "If the score is between 90 and 100 the grade is A, if between 80 and 89 the grade is B, if between 70 and 79 the grade is C, if between 60 and 69 the grade is D, and if below 60 the grade is F.\n",
        "Print the grade and a short message.\n",
        "Run the program with score = 73."
      ],
      "id": "uOUYYC870b8x"
    },
    {
      "cell_type": "code",
      "metadata": {
        "id": "HDtf_YLG0b8y"
      },
      "execution_count": null,
      "outputs": [],
      "source": [
        "score = 73  # given\n",
        "\n",
        "if 90 <= score <= 100:\n",
        "    grade = \"A\"\n",
        "    msg = \"Excellent work!\"\n",
        "elif 80 <= score <= 89:\n",
        "    grade = \"B\"\n",
        "    msg = \"Great job!\"\n",
        "elif 70 <= score <= 79:\n",
        "    grade = \"C\"\n",
        "    msg = \"Good effort.\"\n",
        "elif 60 <= score <= 69:\n",
        "    grade = \"D\"\n",
        "    msg = \"Needs improvement.\"\n",
        "else:\n",
        "    grade = \"F\"\n",
        "    msg = \"Please review the material and try again.\"\n",
        "\n",
        "print(f\"Score: {score} | Grade: {grade} — {msg}\")"
      ],
      "id": "HDtf_YLG0b8y"
    },
    {
      "cell_type": "markdown",
      "metadata": {
        "id": "ZCIKM6Xs0b80"
      },
      "source": [
        "## Question 4 – Parking Fee\n",
        "Write a Python code that calculates parking fees.\n",
        "If the car is parked for 0 to 2 hours the parking is free, if the car is parked for 3 to 5 hours the fee is 3 dollars per hour, and if the car is parked for more than 5 hours the fee is 3 dollars per hour for the first three hours after free and then 5 dollars per hour for the rest.\n",
        "Print the number of hours and the total fee.\n",
        "Run the program with hours = 6."
      ],
      "id": "ZCIKM6Xs0b80"
    },
    {
      "cell_type": "code",
      "metadata": {
        "id": "g3a_sPo50b81"
      },
      "execution_count": null,
      "outputs": [],
      "source": [
        "hours = 6  # given\n",
        "\n",
        "# Pricing rules (corrected to $3 per hour as stated in problem):\n",
        "# 0–2 hours: free\n",
        "# Next 3 hours (i.e., hours 3–5): $3/hour (was $2)\n",
        "# Any remaining hours (6+): $5/hour\n",
        "\n",
        "free_hours = min(hours, 2)\n",
        "tier1_hours = max(0, min(hours - 2, 3))   # up to 3 hours after free\n",
        "tier2_hours = max(0, hours - 5)           # remaining hours beyond 5\n",
        "\n",
        "fee = tier1_hours * 3 + tier2_hours * 5   # changed from 2 to 3\n",
        "\n",
        "print(f\"Hours parked: {hours}\")\n",
        "print(f\"Total fee: ${fee:.2f}\")"
      ],
      "id": "g3a_sPo50b81"
    },
    {
      "cell_type": "markdown",
      "metadata": {
        "id": "XBf0-SPz0b83"
      },
      "source": [
        "## Question 5 – Cafeteria Menu\n",
        "Write a Python code that creates a list with three food items.\n",
        "Check if an order is in the list.\n",
        "If the item is in the list print a confirmation, and if the item is not in the list print a polite message.\n",
        "Run the program with menu = ['pizza','salad','sandwich'] and order = 'salad'."
      ],
      "id": "XBf0-SPz0b83"
    },
    {
      "cell_type": "code",
      "metadata": {
        "id": "y52UEMoX0b85"
      },
      "execution_count": null,
      "outputs": [],
      "source": [
        "menu = [\"pizza\", \"salad\", \"sandwich\"]  # given\n",
        "order = \"salad\"                        # given\n",
        "\n",
        "if order in menu:\n",
        "    print(f\"'{order}' is available. Your order has been placed!\")\n",
        "else:\n",
        "    print(f\"Sorry, '{order}' is not on the menu today.\")"
      ],
      "id": "y52UEMoX0b85"
    },
    {
      "cell_type": "markdown",
      "metadata": {
        "id": "-60rL71F0b86"
      },
      "source": [
        "## Question 6 – Job Application Filter\n",
        "Write a Python code that checks if a person is eligible for a job.\n",
        "If the person is older than 22 and has more than 2 years of experience print Accepted.\n",
        "Otherwise print Not Accepted.\n",
        "Run the program with age = 23 and experience = 1."
      ],
      "id": "-60rL71F0b86"
    },
    {
      "cell_type": "code",
      "metadata": {
        "id": "-h964CqY0b88"
      },
      "execution_count": null,
      "outputs": [],
      "source": [
        "age = 23         # given\n",
        "experience = 1   # given\n",
        "\n",
        "if age > 22 and experience > 2:\n",
        "    print(\"Accepted\")\n",
        "else:\n",
        "    print(\"Not Accepted\")"
      ],
      "id": "-h964CqY0b88"
    },
    {
      "cell_type": "markdown",
      "metadata": {
        "id": "MOMMxnuE0b8-"
      },
      "source": [
        "## Question 7 – Clothing Advice\n",
        "Write a Python code that suggests clothing based on the temperature.\n",
        "If the temperature is below 10 print Coat and gloves, if the temperature is between 10 and 19 print Jacket, and if the temperature is 20 or more print T-shirt.\n",
        "Run the program with temperature = 15."
      ],
      "id": "MOMMxnuE0b8-"
    },
    {
      "cell_type": "code",
      "metadata": {
        "id": "V6RtrCOa0b8_"
      },
      "execution_count": null,
      "outputs": [],
      "source": [
        "temperature = 15  # given, in °C\n",
        "\n",
        "if temperature < 10:\n",
        "    suggestion = \"Coat and gloves\"\n",
        "elif temperature < 20:\n",
        "    suggestion = \"Jacket\"\n",
        "else:\n",
        "    suggestion = \"T-shirt\"\n",
        "\n",
        "print(f\"Temperature: {temperature}°C — Suggestion: {suggestion}\")"
      ],
      "id": "V6RtrCOa0b8_"
    },
    {
      "cell_type": "markdown",
      "metadata": {
        "id": "R-i9Jzpn0b9A"
      },
      "source": [
        "## Question 8 – Loan Eligibility\n",
        "Write a Python code that checks loan eligibility.\n",
        "If the salary is at least 3000 and the credit score is at least 650 print Loan Approved, otherwise print Loan Denied.\n",
        "Run the program with salary = 3500 and credit_score = 640."
      ],
      "id": "R-i9Jzpn0b9A"
    },
    {
      "cell_type": "code",
      "metadata": {
        "id": "2M0s0bC40b9B"
      },
      "execution_count": null,
      "outputs": [],
      "source": [
        "salary = 3500         # given\n",
        "credit_score = 640    # given\n",
        "\n",
        "if salary >= 3000 and credit_score >= 650:\n",
        "    print(\"Loan Approved\")\n",
        "else:\n",
        "    print(\"Loan Denied\")"
      ],
      "id": "2M0s0bC40b9B"
    },
    {
      "cell_type": "markdown",
      "metadata": {
        "id": "I0WmTyFv0b9D"
      },
      "source": [
        "## Question 9 – Password Strength\n",
        "Write a Python code that checks if a password is strong, medium, or weak based on its length.\n",
        "If the password has fewer than 6 characters it is Weak, if it has 6 to 10 characters it is Medium, and if it has more than 10 characters it is Strong.\n",
        "Print the strength.\n",
        "Run the program with password = 'hello123'."
      ],
      "id": "I0WmTyFv0b9D"
    },
    {
      "cell_type": "code",
      "metadata": {
        "id": "Jm8fu7ft0b9E"
      },
      "execution_count": null,
      "outputs": [],
      "source": [
        "password = \"hello123\"  # given\n",
        "\n",
        "length = len(password)\n",
        "if length < 6:\n",
        "    strength = \"Weak\"\n",
        "elif length <= 10:\n",
        "    strength = \"Medium\"\n",
        "else:\n",
        "    strength = \"Strong\"\n",
        "\n",
        "print(f\"Password length: {length} — Strength: {strength}\")"
      ],
      "id": "Jm8fu7ft0b9E"
    },
    {
      "cell_type": "markdown",
      "metadata": {
        "id": "kgKSm4WB0b9F"
      },
      "source": [
        "## Question 10 – Guest List Checker\n",
        "Write a Python code that creates a list with three invited guests.\n",
        "Define a variable for a guest name.\n",
        "Check if the guest name is in the list.\n",
        "If the guest is in the list print Welcome, and if the guest is not in the list print Not on the list.\n",
        "Run the program with guest = 'Sara'."
      ],
      "id": "kgKSm4WB0b9F"
    },
    {
      "cell_type": "code",
      "metadata": {
        "id": "4pyiTbMT0b9G"
      },
      "execution_count": null,
      "outputs": [],
      "source": [
        "guests = [\"Ali\", \"Sara\", \"Reza\"]  # list of invited guests\n",
        "guest = \"Sara\"                    # given\n",
        "\n",
        "if guest in guests:\n",
        "    print(\"Welcome\")\n",
        "else:\n",
        "    print(\"Not on the list\")"
      ],
      "id": "4pyiTbMT0b9G"
    }
  ],
  "metadata": {
    "kernelspec": {
      "display_name": "Python 3",
      "language": "python",
      "name": "python3"
    },
    "language_info": {
      "name": "python",
      "version": "3.x"
    },
    "colab": {
      "provenance": [],
      "include_colab_link": true
    }
  },
  "nbformat": 4,
  "nbformat_minor": 5
}